{
 "cells": [
  {
   "cell_type": "markdown",
   "id": "fba178fd",
   "metadata": {},
   "source": [
    "# Connexion à la bdd \n"
   ]
  },
  {
   "cell_type": "code",
   "execution_count": 2,
   "id": "292e970c",
   "metadata": {},
   "outputs": [],
   "source": [
    "from pymongo import MongoClient\n",
    "import pprint\n",
    "\n",
    "client = MongoClient('localhost', 27017)\n",
    "db = client['DataProject']\n",
    "collection_trafic = db['vehicules']\n"
   ]
  },
  {
   "cell_type": "markdown",
   "id": "405eaabb",
   "metadata": {},
   "source": [
    "# Afficher le nombre total de passages de véhicules par plage horaire"
   ]
  },
  {
   "cell_type": "markdown",
   "id": "1056a756",
   "metadata": {},
   "source": [
    "## En utilisant une boucle for"
   ]
  },
  {
   "cell_type": "code",
   "execution_count": 4,
   "id": "768c7874",
   "metadata": {},
   "outputs": [
    {
     "name": "stdout",
     "output_type": "stream",
     "text": [
      "{'m': 19720247, 's': 28191853}\n"
     ]
    }
   ],
   "source": [
    "vehicules_par_plage = {\"m\":0, \"s\":0}\n",
    "for trafic in collection_trafic.find({\"$or\":[{\"plage_horaire\":\"m\"}, {\"plage_horaire\":\"s\"}]}):\n",
    "    plage = trafic[\"plage_horaire\"]\n",
    "    vehicules_par_plage[plage] += trafic[\"nb_vehicules\"]\n",
    "print(vehicules_par_plage)"
   ]
  },
  {
   "cell_type": "markdown",
   "id": "3cad4085",
   "metadata": {},
   "source": [
    "## En utilisant la fonction aggregate"
   ]
  },
  {
   "cell_type": "code",
   "execution_count": 6,
   "id": "464d4b56",
   "metadata": {},
   "outputs": [
    {
     "name": "stdout",
     "output_type": "stream",
     "text": [
      "[{'_id': 's', 'count': 28191853}, {'_id': 'm', 'count': 19720247}]\n"
     ]
    }
   ],
   "source": [
    "vehicules_par_plage = collection_trafic.aggregate([{\n",
    "    \"$group\" : {\n",
    "        \"_id\" : \"$plage_horaire\",\n",
    "        \"count\" : {\"$sum\" : \"$nb_vehicules\"}\n",
    "    }\n",
    "}])\n",
    "pprint.pprint(list(vehicules_par_plage))"
   ]
  },
  {
   "cell_type": "markdown",
   "id": "98f8d70e",
   "metadata": {},
   "source": [
    "# Convertir les données "
   ]
  },
  {
   "cell_type": "markdown",
   "id": "c19113ed",
   "metadata": {},
   "source": [
    "## a) Récupération et conversion des données"
   ]
  },
  {
   "cell_type": "code",
   "execution_count": 7,
   "id": "e556f312",
   "metadata": {},
   "outputs": [],
   "source": [
    "####ton code ici hichem "
   ]
  },
  {
   "cell_type": "markdown",
   "id": "f46c0889",
   "metadata": {},
   "source": [
    "## b) Validation des résultats"
   ]
  },
  {
   "cell_type": "code",
   "execution_count": 8,
   "id": "e4daa672",
   "metadata": {},
   "outputs": [],
   "source": [
    "#####ton code hna hichemmmmmmmmm"
   ]
  },
  {
   "cell_type": "code",
   "execution_count": null,
   "id": "e9b733ea",
   "metadata": {},
   "outputs": [],
   "source": []
  }
 ],
 "metadata": {
  "kernelspec": {
   "display_name": "Python 3",
   "language": "python",
   "name": "python3"
  },
  "language_info": {
   "codemirror_mode": {
    "name": "ipython",
    "version": 3
   },
   "file_extension": ".py",
   "mimetype": "text/x-python",
   "name": "python",
   "nbconvert_exporter": "python",
   "pygments_lexer": "ipython3",
   "version": "3.8.8"
  }
 },
 "nbformat": 4,
 "nbformat_minor": 5
}
